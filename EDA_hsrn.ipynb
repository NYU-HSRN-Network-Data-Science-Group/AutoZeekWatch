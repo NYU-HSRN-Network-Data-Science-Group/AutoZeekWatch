{
 "cells": [
  {
   "cell_type": "code",
   "execution_count": 1,
   "metadata": {},
   "outputs": [],
   "source": [
    "import numpy as np \n",
    "import pandas as pd"
   ]
  },
  {
   "cell_type": "code",
   "execution_count": 2,
   "metadata": {},
   "outputs": [],
   "source": [
    "orig = ['id.orig_p', 'id.resp_p', 'duration', 'orig_bytes', 'resp_bytes',\n",
    "    'missed_bytes', 'orig_pkts', 'orig_ip_bytes', 'resp_pkts',\n",
    "    'resp_ip_bytes', 'history_has_S',\n",
    "    'history_has_h', 'history_has_A', 'history_has_D', 'history_has_a',\n",
    "    'history_has_d', 'history_has_F', 'history_has_f','is_destination_broadcast', \n",
    "    'conn_state_OTH', 'conn_state_REJ',\n",
    "    'conn_state_RSTO', 'conn_state_RSTOS0', 'conn_state_RSTR',\n",
    "    'conn_state_RSTRH', 'conn_state_S0', 'conn_state_S1', 'conn_state_S2',\n",
    "    'conn_state_S3', 'conn_state_SF', 'conn_state_SH', 'conn_state_SHR',\n",
    "    'proto_tcp', 'proto_udp', \n",
    "    'traffic_direction_external','traffic_direction_incoming', \n",
    "    'traffic_direction_internal','traffic_direction_outgoing', \n",
    "    'service_dhcp', 'service_dns',\n",
    "    'service_http', 'service_irc', 'service_other', 'service_ssh',\n",
    "    'service_ssl'] "
   ]
  },
  {
   "cell_type": "code",
   "execution_count": 9,
   "metadata": {},
   "outputs": [],
   "source": [
    "ls_1 = ['id.orig_p','id.resp_p','duration','orig_bytes','resp_bytes','missed_bytes','orig_pkts','orig_ip_bytes','resp_pkts','resp_ip_bytes',\n",
    "      'orig_l2_addr','resp_l2_addr','history_has_S','history_has_h','history_has_A','history_has_D','history_has_a','history_has_d','history_has_F','history_has_f','is_destination_broadcast',\n",
    "      'conn_state_OTH','conn_state_RSTO','conn_state_S0','conn_state_S1','conn_state_SF',\n",
    "      'proto_tcp','proto_udp',\n",
    "      'traffic_direction_internal','traffic_direction_outgoing',\n",
    "      'service_dns','service_http','service_ntp','service_other','service_ssl']"
   ]
  },
  {
   "cell_type": "code",
   "execution_count": 8,
   "metadata": {},
   "outputs": [
    {
     "name": "stdout",
     "output_type": "stream",
     "text": [
      "orig_l2_addr\n",
      "resp_l2_addr\n",
      "service_ntp\n",
      "service_ntp\n"
     ]
    }
   ],
   "source": [
    "for item in ls:\n",
    "    if item not in orig:\n",
    "        print(item)"
   ]
  },
  {
   "cell_type": "code",
   "execution_count": 5,
   "metadata": {},
   "outputs": [
    {
     "name": "stdout",
     "output_type": "stream",
     "text": [
      "conn_state_REJ\n",
      "conn_state_RSTOS0\n",
      "conn_state_RSTR\n",
      "conn_state_RSTRH\n",
      "conn_state_S2\n",
      "conn_state_S3\n",
      "conn_state_SH\n",
      "conn_state_SHR\n",
      "traffic_direction_external\n",
      "traffic_direction_incoming\n",
      "service_dhcp\n",
      "service_irc\n",
      "service_ssh\n"
     ]
    }
   ],
   "source": [
    "for item in orig:\n",
    "    if item not in ls:\n",
    "        print(item)"
   ]
  },
  {
   "cell_type": "code",
   "execution_count": 6,
   "metadata": {},
   "outputs": [],
   "source": [
    "column_name = ['conn_state', \"proto\", \"traffic_direction\" , \"service\"]\n",
    "conn_state = ['conn_state_OTH', 'conn_state_REJ',\n",
    "    'conn_state_RSTO', 'conn_state_RSTOS0', 'conn_state_RSTR',\n",
    "    'conn_state_RSTRH', 'conn_state_S0', 'conn_state_S1', 'conn_state_S2',\n",
    "    'conn_state_S3', 'conn_state_SF', 'conn_state_SH', 'conn_state_SHR']\n",
    "proto = ['proto_tcp', 'proto_udp']\n",
    "service = ['service_dhcp', 'service_dns',\n",
    "    'service_http', 'service_irc','service_ntp','service_other', 'service_ssh',\n",
    "    'service_ssl'] \n",
    "traffic = ['traffic_direction_external','traffic_direction_incoming', \n",
    "    'traffic_direction_internal','traffic_direction_outgoing']"
   ]
  },
  {
   "cell_type": "code",
   "execution_count": 14,
   "metadata": {},
   "outputs": [],
   "source": [
    "cols = ['conn_state_OTH', 'conn_state_REJ','conn_state_RSTO', 'conn_state_RSTOS0', 'conn_state_RSTR','conn_state_RSTRH', \n",
    "        'conn_state_S0', 'conn_state_S1', 'conn_state_S2','conn_state_S3', 'conn_state_SF', 'conn_state_SH', 'conn_state_SHR',\n",
    "        'proto_tcp', 'proto_udp',\n",
    "        'service_dhcp', 'service_dns','service_http', 'service_irc','service_ntp',\n",
    "        'service_other', 'service_ssh','service_ssl',\n",
    "        'traffic_direction_external','traffic_direction_incoming', \n",
    "        'traffic_direction_internal','traffic_direction_outgoing']"
   ]
  },
  {
   "cell_type": "code",
   "execution_count": 10,
   "metadata": {},
   "outputs": [],
   "source": [
    "ls_2 = ['id.orig_p','id.resp_p','duration','orig_bytes','resp_bytes','missed_bytes','orig_pkts','orig_ip_bytes',\n",
    "      'resp_pkts','resp_ip_bytes','orig_l2_addr','resp_l2_addr',\n",
    "      'conn_state_OTH','conn_state_REJ','conn_state_RSTO','conn_state_RSTOS0','conn_state_RSTR'\n",
    "      'conn_state_RSTRH','conn_state_S0','conn_state_S1','conn_state_S2','conn_state_S3',\n",
    "      'conn_state_SF','conn_state_SH','conn_state_SHR',\n",
    "      'proto_tcp','proto_udp',\n",
    "      'service_dhcp','service_dns','service_http','service_irc','service_ntp','service_other','service_ssh','service_ssl',\n",
    "      'traffic_direction_external','traffic_direction_incoming','traffic_direction_internal','traffic_direction_outgoing',\n",
    "      'history_has_S','history_has_h','history_has_A','history_has_D','history_has_a','history_has_d','history_has_F','history_has_f',\n",
    "      'is_destination_broadcast',\n",
    "      'conn_state_OTH','conn_state_RSTO','conn_state_S0','conn_state_S1','conn_state_SF',\n",
    "      'proto_tcp','proto_udp','traffic_direction_internal','traffic_direction_outgoing','service_dns','service_http','service_ntp','service_other','service_ssl']"
   ]
  },
  {
   "cell_type": "code",
   "execution_count": 12,
   "metadata": {},
   "outputs": [
    {
     "data": {
      "text/plain": [
       "35"
      ]
     },
     "execution_count": 12,
     "metadata": {},
     "output_type": "execute_result"
    }
   ],
   "source": [
    "len(ls_1)"
   ]
  },
  {
   "cell_type": "code",
   "execution_count": 15,
   "metadata": {},
   "outputs": [
    {
     "name": "stdout",
     "output_type": "stream",
     "text": [
      "27\n"
     ]
    }
   ],
   "source": [
    "print(len(cols))"
   ]
  },
  {
   "cell_type": "code",
   "execution_count": 16,
   "metadata": {},
   "outputs": [],
   "source": [
    "new_ls = ['id.orig_p', 'id.resp_p', 'duration', 'orig_bytes', 'resp_bytes',\n",
    "       'missed_bytes', 'orig_pkts', 'orig_ip_bytes', 'resp_pkts',\n",
    "       'resp_ip_bytes', 'orig_l2_addr', 'resp_l2_addr', 'history_has_S',\n",
    "       'history_has_h', 'history_has_A', 'history_has_D', 'history_has_a',\n",
    "       'history_has_d', 'history_has_F', 'history_has_f',\n",
    "       'is_destination_broadcast', 'conn_state_OTH', 'conn_state_RSTO',\n",
    "       'conn_state_S0', 'conn_state_S1', 'conn_state_SF', 'proto_tcp',\n",
    "       'proto_udp', 'traffic_direction_internal', 'traffic_direction_outgoing',\n",
    "       'service_dns', 'service_http', 'service_ntp', 'service_other',\n",
    "       'service_ssl', 'conn_state_REJ', 'conn_state_RSTOS0', 'conn_state_RSTR',\n",
    "       'conn_state_RSTRH', 'conn_state_S2', 'conn_state_S3', 'conn_state_SH',\n",
    "       'conn_state_SHR', 'service_dhcp', 'service_irc', 'service_ssh',\n",
    "       'traffic_direction_external', 'traffic_direction_incoming']\n",
    "\n",
    "orig = ['id.orig_p', 'id.resp_p', 'duration', 'orig_bytes', 'resp_bytes',\n",
    "    'missed_bytes', 'orig_pkts', 'orig_ip_bytes', 'resp_pkts',\n",
    "    'resp_ip_bytes', 'history_has_S',\n",
    "    'history_has_h', 'history_has_A', 'history_has_D', 'history_has_a',\n",
    "    'history_has_d', 'history_has_F', 'history_has_f','is_destination_broadcast', \n",
    "    'conn_state_OTH', 'conn_state_REJ',\n",
    "    'conn_state_RSTO', 'conn_state_RSTOS0', 'conn_state_RSTR',\n",
    "    'conn_state_RSTRH', 'conn_state_S0', 'conn_state_S1', 'conn_state_S2',\n",
    "    'conn_state_S3', 'conn_state_SF', 'conn_state_SH', 'conn_state_SHR',\n",
    "    'proto_tcp', 'proto_udp', \n",
    "    'traffic_direction_external','traffic_direction_incoming', \n",
    "    'traffic_direction_internal','traffic_direction_outgoing', \n",
    "    'service_dhcp', 'service_dns',\n",
    "    'service_http', 'service_irc', 'service_other', 'service_ssh',\n",
    "    'service_ssl'] "
   ]
  },
  {
   "cell_type": "code",
   "execution_count": 18,
   "metadata": {},
   "outputs": [
    {
     "name": "stdout",
     "output_type": "stream",
     "text": [
      "orig_l2_addr\n",
      "resp_l2_addr\n",
      "service_ntp\n"
     ]
    }
   ],
   "source": [
    "for item in new_ls:\n",
    "    if item not in orig:\n",
    "        print(item)"
   ]
  },
  {
   "cell_type": "code",
   "execution_count": 26,
   "metadata": {},
   "outputs": [],
   "source": [
    "for item in orig:\n",
    "    if item not in new_ls:\n",
    "        print(item)"
   ]
  },
  {
   "cell_type": "code",
   "execution_count": 27,
   "metadata": {},
   "outputs": [
    {
     "name": "stdout",
     "output_type": "stream",
     "text": [
      "48\n",
      "45\n"
     ]
    }
   ],
   "source": [
    "print(len(new_ls))\n",
    "print(len(orig))"
   ]
  },
  {
   "cell_type": "markdown",
   "metadata": {},
   "source": [
    "### deal with json"
   ]
  },
  {
   "cell_type": "code",
   "execution_count": 41,
   "metadata": {},
   "outputs": [],
   "source": [
    "conn_1 = {\"ts\":1700585997.223186,\"uid\":\"Czw6562Iq7Z1qiU3l7\",\"id.orig_h\":\"10.33.80.187\",\"id.orig_p\":55588,\"id.resp_h\":\"10.33.80.6\",\"id.resp_p\":6443,\"proto\":\"tcp\",\"duration\":0.0002219676971435547,\"orig_bytes\":0,\"resp_bytes\":0,\"conn_state\":\"RSTO\",\"local_orig\":True,\"local_resp\":True,\"missed_bytes\":0,\"history\":\"ShR\",\"orig_pkts\":2,\"orig_ip_bytes\":112,\"resp_pkts\":1,\"resp_ip_bytes\":60,\"orig_l2_addr\":\"ec:0d:9a:7d:ab:b2\",\"resp_l2_addr\":\"00:1c:73:00:00:99\"}"
   ]
  },
  {
   "cell_type": "code",
   "execution_count": 42,
   "metadata": {},
   "outputs": [],
   "source": [
    "conn_2 = {\"ts\":1700586000.140655,\"uid\":\"C4fZj44UEj8DaiNkJ7\",\"id.orig_h\":\"10.33.80.187\",\"id.orig_p\":56768,\"id.resp_h\":\"128.122.0.71\",\"id.resp_p\":53,\"proto\":\"udp\",\"service\":\"dns\",\"duration\":0.0019979476928710938,\"orig_bytes\":52,\"resp_bytes\":230,\"conn_state\":\"SF\",\"local_orig\":True,\"local_resp\":False,\"missed_bytes\":0,\"history\":\"Dd\",\"orig_pkts\":1,\"orig_ip_bytes\":80,\"resp_pkts\":1,\"resp_ip_bytes\":258,\"orig_l2_addr\":\"ec:0d:9a:7d:ab:b2\",\"resp_l2_addr\":\"00:1c:73:00:00:99\"}"
   ]
  },
  {
   "cell_type": "code",
   "execution_count": 43,
   "metadata": {},
   "outputs": [],
   "source": [
    "conn1_ls = list(conn_1.keys())\n",
    "conn2_ls = list(conn_2.keys())"
   ]
  },
  {
   "cell_type": "code",
   "execution_count": 47,
   "metadata": {},
   "outputs": [
    {
     "data": {
      "text/plain": [
       "22"
      ]
     },
     "execution_count": 47,
     "metadata": {},
     "output_type": "execute_result"
    }
   ],
   "source": [
    "len(conn2_ls)"
   ]
  },
  {
   "cell_type": "code",
   "execution_count": 49,
   "metadata": {},
   "outputs": [
    {
     "name": "stdout",
     "output_type": "stream",
     "text": [
      "service\n"
     ]
    }
   ],
   "source": [
    "for item in conn2_ls:\n",
    "    if item not in conn1_ls:\n",
    "        print(item)"
   ]
  },
  {
   "cell_type": "code",
   "execution_count": 54,
   "metadata": {},
   "outputs": [],
   "source": [
    "a1D = np.array([])"
   ]
  },
  {
   "cell_type": "code",
   "execution_count": 59,
   "metadata": {},
   "outputs": [],
   "source": [
    "conn_line = str({\"ts\":1700585997.223186,\"uid\":\"Czw6562Iq7Z1qiU3l7\",\"id.orig_h\":\"10.33.80.187\",\"id.orig_p\":55588,\"id.resp_h\":\"10.33.80.6\",\"id.resp_p\":6443,\"proto\":\"tcp\",\"duration\":0.0002219676971435547,\"orig_bytes\":0,\"resp_bytes\":0,\"conn_state\":\"RSTO\",\"local_orig\":True,\"local_resp\":True,\"missed_bytes\":0,\"history\":\"ShR\",\"orig_pkts\":2,\"orig_ip_bytes\":112,\"resp_pkts\":1,\"resp_ip_bytes\":60,\"orig_l2_addr\":\"ec:0d:9a:7d:ab:b2\",\"resp_l2_addr\":\"00:1c:73:00:00:99\"})"
   ]
  },
  {
   "cell_type": "code",
   "execution_count": 69,
   "metadata": {},
   "outputs": [],
   "source": [
    "import ast\n",
    "conn_dict = ast.literal_eval(conn_line)"
   ]
  },
  {
   "cell_type": "code",
   "execution_count": 73,
   "metadata": {},
   "outputs": [],
   "source": [
    "df = pd.DataFrame(conn_dict, index=[0])"
   ]
  },
  {
   "cell_type": "code",
   "execution_count": 71,
   "metadata": {},
   "outputs": [
    {
     "data": {
      "text/html": [
       "<div>\n",
       "<style scoped>\n",
       "    .dataframe tbody tr th:only-of-type {\n",
       "        vertical-align: middle;\n",
       "    }\n",
       "\n",
       "    .dataframe tbody tr th {\n",
       "        vertical-align: top;\n",
       "    }\n",
       "\n",
       "    .dataframe thead th {\n",
       "        text-align: right;\n",
       "    }\n",
       "</style>\n",
       "<table border=\"1\" class=\"dataframe\">\n",
       "  <thead>\n",
       "    <tr style=\"text-align: right;\">\n",
       "      <th></th>\n",
       "      <th>ts</th>\n",
       "      <th>uid</th>\n",
       "      <th>id.orig_h</th>\n",
       "      <th>id.orig_p</th>\n",
       "      <th>id.resp_h</th>\n",
       "      <th>id.resp_p</th>\n",
       "      <th>proto</th>\n",
       "      <th>duration</th>\n",
       "      <th>orig_bytes</th>\n",
       "      <th>resp_bytes</th>\n",
       "      <th>...</th>\n",
       "      <th>local_orig</th>\n",
       "      <th>local_resp</th>\n",
       "      <th>missed_bytes</th>\n",
       "      <th>history</th>\n",
       "      <th>orig_pkts</th>\n",
       "      <th>orig_ip_bytes</th>\n",
       "      <th>resp_pkts</th>\n",
       "      <th>resp_ip_bytes</th>\n",
       "      <th>orig_l2_addr</th>\n",
       "      <th>resp_l2_addr</th>\n",
       "    </tr>\n",
       "  </thead>\n",
       "  <tbody>\n",
       "    <tr>\n",
       "      <th>0</th>\n",
       "      <td>1.700586e+09</td>\n",
       "      <td>Czw6562Iq7Z1qiU3l7</td>\n",
       "      <td>10.33.80.187</td>\n",
       "      <td>55588</td>\n",
       "      <td>10.33.80.6</td>\n",
       "      <td>6443</td>\n",
       "      <td>tcp</td>\n",
       "      <td>0.000222</td>\n",
       "      <td>0</td>\n",
       "      <td>0</td>\n",
       "      <td>...</td>\n",
       "      <td>True</td>\n",
       "      <td>True</td>\n",
       "      <td>0</td>\n",
       "      <td>ShR</td>\n",
       "      <td>2</td>\n",
       "      <td>112</td>\n",
       "      <td>1</td>\n",
       "      <td>60</td>\n",
       "      <td>ec:0d:9a:7d:ab:b2</td>\n",
       "      <td>00:1c:73:00:00:99</td>\n",
       "    </tr>\n",
       "  </tbody>\n",
       "</table>\n",
       "<p>1 rows × 21 columns</p>\n",
       "</div>"
      ],
      "text/plain": [
       "             ts                 uid     id.orig_h  id.orig_p   id.resp_h  \\\n",
       "0  1.700586e+09  Czw6562Iq7Z1qiU3l7  10.33.80.187      55588  10.33.80.6   \n",
       "\n",
       "   id.resp_p proto  duration  orig_bytes  resp_bytes  ... local_orig  \\\n",
       "0       6443   tcp  0.000222           0           0  ...       True   \n",
       "\n",
       "   local_resp  missed_bytes  history orig_pkts  orig_ip_bytes  resp_pkts  \\\n",
       "0        True             0      ShR         2            112          1   \n",
       "\n",
       "   resp_ip_bytes       orig_l2_addr       resp_l2_addr  \n",
       "0             60  ec:0d:9a:7d:ab:b2  00:1c:73:00:00:99  \n",
       "\n",
       "[1 rows x 21 columns]"
      ]
     },
     "execution_count": 71,
     "metadata": {},
     "output_type": "execute_result"
    }
   ],
   "source": [
    "df "
   ]
  },
  {
   "cell_type": "code",
   "execution_count": 67,
   "metadata": {},
   "outputs": [
    {
     "data": {
      "text/plain": [
       "{'ts': 1700585997.223186,\n",
       " 'uid': 'Czw6562Iq7Z1qiU3l7',\n",
       " 'id.orig_h': '10.33.80.187',\n",
       " 'id.orig_p': 55588,\n",
       " 'id.resp_h': '10.33.80.6',\n",
       " 'id.resp_p': 6443,\n",
       " 'proto': 'tcp',\n",
       " 'duration': 0.0002219676971435547,\n",
       " 'orig_bytes': 0,\n",
       " 'resp_bytes': 0,\n",
       " 'conn_state': 'RSTO',\n",
       " 'local_orig': True,\n",
       " 'local_resp': True,\n",
       " 'missed_bytes': 0,\n",
       " 'history': 'ShR',\n",
       " 'orig_pkts': 2,\n",
       " 'orig_ip_bytes': 112,\n",
       " 'resp_pkts': 1,\n",
       " 'resp_ip_bytes': 60,\n",
       " 'orig_l2_addr': 'ec:0d:9a:7d:ab:b2',\n",
       " 'resp_l2_addr': '00:1c:73:00:00:99'}"
      ]
     },
     "execution_count": 67,
     "metadata": {},
     "output_type": "execute_result"
    }
   ],
   "source": [
    "conn_dict"
   ]
  },
  {
   "cell_type": "code",
   "execution_count": 68,
   "metadata": {},
   "outputs": [
    {
     "ename": "JSONDecodeError",
     "evalue": "Expecting value: line 1 column 272 (char 271)",
     "output_type": "error",
     "traceback": [
      "\u001b[0;31m---------------------------------------------------------------------------\u001b[0m",
      "\u001b[0;31mJSONDecodeError\u001b[0m                           Traceback (most recent call last)",
      "\u001b[1;32m/Users/Zoe_1/Documents/VS/capstone/ad-nids/mlflow/deployment/EDA_hsrn.ipynb Cell 25\u001b[0m line \u001b[0;36m<cell line: 3>\u001b[0;34m()\u001b[0m\n\u001b[1;32m      <a href='vscode-notebook-cell:/Users/Zoe_1/Documents/VS/capstone/ad-nids/mlflow/deployment/EDA_hsrn.ipynb#X36sZmlsZQ%3D%3D?line=0'>1</a>\u001b[0m \u001b[39mimport\u001b[39;00m \u001b[39mjson\u001b[39;00m \n\u001b[1;32m      <a href='vscode-notebook-cell:/Users/Zoe_1/Documents/VS/capstone/ad-nids/mlflow/deployment/EDA_hsrn.ipynb#X36sZmlsZQ%3D%3D?line=1'>2</a>\u001b[0m conn_line_json \u001b[39m=\u001b[39m conn_line\u001b[39m.\u001b[39mreplace(\u001b[39m\"\u001b[39m\u001b[39m'\u001b[39m\u001b[39m\"\u001b[39m, \u001b[39m\"\u001b[39m\u001b[39m\\\"\u001b[39;00m\u001b[39m\"\u001b[39m)\n\u001b[0;32m----> <a href='vscode-notebook-cell:/Users/Zoe_1/Documents/VS/capstone/ad-nids/mlflow/deployment/EDA_hsrn.ipynb#X36sZmlsZQ%3D%3D?line=2'>3</a>\u001b[0m res \u001b[39m=\u001b[39m json\u001b[39m.\u001b[39;49mloads(conn_line_json)\n",
      "File \u001b[0;32m~/opt/anaconda3/lib/python3.9/json/__init__.py:346\u001b[0m, in \u001b[0;36mloads\u001b[0;34m(s, cls, object_hook, parse_float, parse_int, parse_constant, object_pairs_hook, **kw)\u001b[0m\n\u001b[1;32m    341\u001b[0m     s \u001b[39m=\u001b[39m s\u001b[39m.\u001b[39mdecode(detect_encoding(s), \u001b[39m'\u001b[39m\u001b[39msurrogatepass\u001b[39m\u001b[39m'\u001b[39m)\n\u001b[1;32m    343\u001b[0m \u001b[39mif\u001b[39;00m (\u001b[39mcls\u001b[39m \u001b[39mis\u001b[39;00m \u001b[39mNone\u001b[39;00m \u001b[39mand\u001b[39;00m object_hook \u001b[39mis\u001b[39;00m \u001b[39mNone\u001b[39;00m \u001b[39mand\u001b[39;00m\n\u001b[1;32m    344\u001b[0m         parse_int \u001b[39mis\u001b[39;00m \u001b[39mNone\u001b[39;00m \u001b[39mand\u001b[39;00m parse_float \u001b[39mis\u001b[39;00m \u001b[39mNone\u001b[39;00m \u001b[39mand\u001b[39;00m\n\u001b[1;32m    345\u001b[0m         parse_constant \u001b[39mis\u001b[39;00m \u001b[39mNone\u001b[39;00m \u001b[39mand\u001b[39;00m object_pairs_hook \u001b[39mis\u001b[39;00m \u001b[39mNone\u001b[39;00m \u001b[39mand\u001b[39;00m \u001b[39mnot\u001b[39;00m kw):\n\u001b[0;32m--> 346\u001b[0m     \u001b[39mreturn\u001b[39;00m _default_decoder\u001b[39m.\u001b[39;49mdecode(s)\n\u001b[1;32m    347\u001b[0m \u001b[39mif\u001b[39;00m \u001b[39mcls\u001b[39m \u001b[39mis\u001b[39;00m \u001b[39mNone\u001b[39;00m:\n\u001b[1;32m    348\u001b[0m     \u001b[39mcls\u001b[39m \u001b[39m=\u001b[39m JSONDecoder\n",
      "File \u001b[0;32m~/opt/anaconda3/lib/python3.9/json/decoder.py:337\u001b[0m, in \u001b[0;36mJSONDecoder.decode\u001b[0;34m(self, s, _w)\u001b[0m\n\u001b[1;32m    332\u001b[0m \u001b[39mdef\u001b[39;00m \u001b[39mdecode\u001b[39m(\u001b[39mself\u001b[39m, s, _w\u001b[39m=\u001b[39mWHITESPACE\u001b[39m.\u001b[39mmatch):\n\u001b[1;32m    333\u001b[0m     \u001b[39m\"\"\"Return the Python representation of ``s`` (a ``str`` instance\u001b[39;00m\n\u001b[1;32m    334\u001b[0m \u001b[39m    containing a JSON document).\u001b[39;00m\n\u001b[1;32m    335\u001b[0m \n\u001b[1;32m    336\u001b[0m \u001b[39m    \"\"\"\u001b[39;00m\n\u001b[0;32m--> 337\u001b[0m     obj, end \u001b[39m=\u001b[39m \u001b[39mself\u001b[39;49m\u001b[39m.\u001b[39;49mraw_decode(s, idx\u001b[39m=\u001b[39;49m_w(s, \u001b[39m0\u001b[39;49m)\u001b[39m.\u001b[39;49mend())\n\u001b[1;32m    338\u001b[0m     end \u001b[39m=\u001b[39m _w(s, end)\u001b[39m.\u001b[39mend()\n\u001b[1;32m    339\u001b[0m     \u001b[39mif\u001b[39;00m end \u001b[39m!=\u001b[39m \u001b[39mlen\u001b[39m(s):\n",
      "File \u001b[0;32m~/opt/anaconda3/lib/python3.9/json/decoder.py:355\u001b[0m, in \u001b[0;36mJSONDecoder.raw_decode\u001b[0;34m(self, s, idx)\u001b[0m\n\u001b[1;32m    353\u001b[0m     obj, end \u001b[39m=\u001b[39m \u001b[39mself\u001b[39m\u001b[39m.\u001b[39mscan_once(s, idx)\n\u001b[1;32m    354\u001b[0m \u001b[39mexcept\u001b[39;00m \u001b[39mStopIteration\u001b[39;00m \u001b[39mas\u001b[39;00m err:\n\u001b[0;32m--> 355\u001b[0m     \u001b[39mraise\u001b[39;00m JSONDecodeError(\u001b[39m\"\u001b[39m\u001b[39mExpecting value\u001b[39m\u001b[39m\"\u001b[39m, s, err\u001b[39m.\u001b[39mvalue) \u001b[39mfrom\u001b[39;00m \u001b[39mNone\u001b[39m\n\u001b[1;32m    356\u001b[0m \u001b[39mreturn\u001b[39;00m obj, end\n",
      "\u001b[0;31mJSONDecodeError\u001b[0m: Expecting value: line 1 column 272 (char 271)"
     ]
    }
   ],
   "source": [
    "import json \n",
    "conn_line_json = conn_line.replace(\"'\", \"\\\"\")\n",
    "res = json.loads(conn_line_json)"
   ]
  },
  {
   "cell_type": "code",
   "execution_count": null,
   "metadata": {},
   "outputs": [],
   "source": [
    "def update_record(dic_record):\n",
    "    # Add the current date to the record\n",
    "    current_date = datetime.now().strftime(\"%Y-%m-%d\")\n",
    "    record_file = f'../anomaly_record/anomaly_record_{current_date}.txt'\n",
    "\n",
    "    # Check if the file exists\n",
    "    if os.path.exists(record_file):\n",
    "        # Check if the file is empty\n",
    "        if os.path.getsize(record_file) > 0:\n",
    "            # Load existing records\n",
    "            with open(record_file, 'r') as file:\n",
    "                existing_records = json.load(file)\n",
    "        else:\n",
    "            existing_records = []\n",
    "    else:\n",
    "        # If the file doesn't exist, create an empty list\n",
    "        existing_records = []\n",
    "\n",
    "    # Append the current record to the list\n",
    "    existing_records.append(dic_record)\n",
    "\n",
    "    # Write the updated list back to the file\n",
    "    with open(record_file, 'w') as file:\n",
    "        # Use json.dump to write the list of dictionaries to the file\n",
    "        json.dump(existing_records, file, indent=2)"
   ]
  },
  {
   "cell_type": "code",
   "execution_count": null,
   "metadata": {},
   "outputs": [],
   "source": [
    "{'ts': 0    1.700586e+09\n",
    "Name: ts, dtype: float64, 'uid': 0    Czw6562Iq7Z1qiU3l7\n",
    "Name: uid, dtype: object, 'id.orig_h': 0    10.33.80.187\n",
    "Name: id.orig_h, dtype: object, 'id.orig_p': 0    55588\n",
    "Name: id.orig_p, dtype: int64, 'id.resp_h': 0    10.33.80.6\n",
    "Name: id.resp_h, dtype: object, 'id.resp_p': 0    6443\n",
    "Name: id.resp_p, dtype: int64, 'anomaly_score': 0.18503525314564082}"
   ]
  },
  {
   "cell_type": "code",
   "execution_count": 2,
   "metadata": {},
   "outputs": [],
   "source": [
    "conn_dict= {'ts': 1700585997.223186, 'uid': 'Czw6562Iq7Z1qiU3l7', 'id.orig_h': '10.33.80.187', 'id.orig_p': 55588, 'id.resp_h': '10.33.80.6', 'id.resp_p': 6443, 'proto': 'tcp', 'duration': 0.0002219676971435547, 'orig_bytes': 0, 'resp_bytes': 0, 'conn_state': 'RSTO', 'local_orig': True, 'local_resp': True, 'missed_bytes': 0, 'history': 'ShR', 'orig_pkts': 2, 'orig_ip_bytes': 112, 'resp_pkts': 1, 'resp_ip_bytes': 60, 'orig_l2_addr': 'ec:0d:9a:7d:ab:b2', 'resp_l2_addr': '00:1c:73:00:00:99'}"
   ]
  },
  {
   "cell_type": "code",
   "execution_count": 5,
   "metadata": {},
   "outputs": [],
   "source": [
    "import pandas as pd \n",
    "conn_df = pd.DataFrame(conn_dict, columns=conn_dict.keys(), index=[0])"
   ]
  },
  {
   "cell_type": "code",
   "execution_count": 6,
   "metadata": {},
   "outputs": [
    {
     "data": {
      "text/plain": [
       "0    1.700586e+09\n",
       "Name: ts, dtype: float64"
      ]
     },
     "execution_count": 6,
     "metadata": {},
     "output_type": "execute_result"
    }
   ],
   "source": [
    "conn_df['ts']"
   ]
  },
  {
   "cell_type": "code",
   "execution_count": null,
   "metadata": {},
   "outputs": [],
   "source": [
    "{'ts': 1700585997.223186, 'uid': 'Czw6562Iq7Z1qiU3l7', 'id.orig_h': '10.33.80.187', 'id.orig_p': 55588, 'id.resp_h': '10.33.80.6', 'id.resp_p': 6443, 'anomaly_score': 0.18503525314564082}"
   ]
  },
  {
   "cell_type": "code",
   "execution_count": 1,
   "metadata": {},
   "outputs": [],
   "source": [
    "df = ['ts', 'uid', 'id.orig_h', 'id.orig_p', 'id.resp_h', 'id.resp_p',\n",
    "       'proto', 'conn_state', 'local_orig', 'local_resp', 'missed_bytes',\n",
    "       'history', 'orig_pkts', 'orig_ip_bytes', 'resp_pkts', 'resp_ip_bytes',\n",
    "       'orig_l2_addr', 'resp_l2_addr'],"
   ]
  },
  {
   "cell_type": "code",
   "execution_count": 11,
   "metadata": {},
   "outputs": [
    {
     "data": {
      "text/plain": [
       "Index(['ts', 'uid', 'id.orig_h', 'id.orig_p', 'id.resp_h', 'id.resp_p',\n",
       "       'proto', 'duration', 'orig_bytes', 'resp_bytes', 'conn_state',\n",
       "       'local_orig', 'local_resp', 'missed_bytes', 'history', 'orig_pkts',\n",
       "       'orig_ip_bytes', 'resp_pkts', 'resp_ip_bytes', 'orig_l2_addr',\n",
       "       'resp_l2_addr'],\n",
       "      dtype='object')"
      ]
     },
     "execution_count": 11,
     "metadata": {},
     "output_type": "execute_result"
    }
   ],
   "source": [
    "conn_df.columns"
   ]
  }
 ],
 "metadata": {
  "kernelspec": {
   "display_name": "base",
   "language": "python",
   "name": "python3"
  },
  "language_info": {
   "codemirror_mode": {
    "name": "ipython",
    "version": 3
   },
   "file_extension": ".py",
   "mimetype": "text/x-python",
   "name": "python",
   "nbconvert_exporter": "python",
   "pygments_lexer": "ipython3",
   "version": "3.9.12"
  }
 },
 "nbformat": 4,
 "nbformat_minor": 2
}
